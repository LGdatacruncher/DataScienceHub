{
  "nbformat": 4,
  "nbformat_minor": 0,
  "metadata": {
    "colab": {
      "provenance": []
    },
    "kernelspec": {
      "name": "python3",
      "display_name": "Python 3"
    },
    "language_info": {
      "name": "python"
    }
  },
  "cells": [
    {
      "cell_type": "markdown",
      "source": [
        "**The primary objective of this project is to analyze the sentiment of movie reviews by leveraging both Natural Language Toolkit (NLTK) and Google Cloud's Natural Language API. This involves downloading a dataset of positive and negative reviews from NLTK, processing the text data, and using a cloud-based sentiment analysis tool to evaluate the emotional tone of each review. The goal is to assess the effectiveness of automated sentiment analysis in distinguishing between positive and negative sentiments in movie reviews. Additionally, this project aims to explore the performance of cloud-based APIs in real-time data analysis and develop an efficient workflow for sentiment classification. Through this process, we aim to understand how machine learning and cloud services can be integrated into data science projects for text analysis.**"
      ],
      "metadata": {
        "id": "NqQSKxok3rLM"
      }
    },
    {
      "cell_type": "markdown",
      "source": [
        "**Segment 1: Install Libraries and Upload Key**"
      ],
      "metadata": {
        "id": "2sPEnqIY2Hw7"
      }
    },
    {
      "cell_type": "code",
      "source": [
        "!pip install google-cloud\n"
      ],
      "metadata": {
        "colab": {
          "base_uri": "https://localhost:8080/"
        },
        "id": "Bv1ibK4kwl-f",
        "outputId": "54f14cb8-3c91-466c-a515-2acfaebd3583"
      },
      "execution_count": null,
      "outputs": [
        {
          "output_type": "stream",
          "name": "stdout",
          "text": [
            "Collecting google-cloud\n",
            "  Downloading google_cloud-0.34.0-py2.py3-none-any.whl (1.8 kB)\n",
            "Installing collected packages: google-cloud\n",
            "Successfully installed google-cloud-0.34.0\n"
          ]
        }
      ]
    },
    {
      "cell_type": "code",
      "source": [
        "from google.colab import files\n",
        "\n",
        "# Upload the file\n",
        "uploaded = files.upload()\n",
        "\n",
        "# List uploaded files\n",
        "for filename in uploaded.keys():\n",
        "    print(f'Uploaded file: {filename}')\n"
      ],
      "metadata": {
        "colab": {
          "base_uri": "https://localhost:8080/",
          "height": 111
        },
        "id": "iIVBviHZy3S_",
        "outputId": "125ffb88-4859-483a-90ff-0b09bcda7749"
      },
      "execution_count": null,
      "outputs": [
        {
          "output_type": "display_data",
          "data": {
            "text/plain": [
              "<IPython.core.display.HTML object>"
            ],
            "text/html": [
              "\n",
              "     <input type=\"file\" id=\"files-206fc71e-84ed-4c33-8134-eebcbfa78cc4\" name=\"files[]\" multiple disabled\n",
              "        style=\"border:none\" />\n",
              "     <output id=\"result-206fc71e-84ed-4c33-8134-eebcbfa78cc4\">\n",
              "      Upload widget is only available when the cell has been executed in the\n",
              "      current browser session. Please rerun this cell to enable.\n",
              "      </output>\n",
              "      <script>// Copyright 2017 Google LLC\n",
              "//\n",
              "// Licensed under the Apache License, Version 2.0 (the \"License\");\n",
              "// you may not use this file except in compliance with the License.\n",
              "// You may obtain a copy of the License at\n",
              "//\n",
              "//      http://www.apache.org/licenses/LICENSE-2.0\n",
              "//\n",
              "// Unless required by applicable law or agreed to in writing, software\n",
              "// distributed under the License is distributed on an \"AS IS\" BASIS,\n",
              "// WITHOUT WARRANTIES OR CONDITIONS OF ANY KIND, either express or implied.\n",
              "// See the License for the specific language governing permissions and\n",
              "// limitations under the License.\n",
              "\n",
              "/**\n",
              " * @fileoverview Helpers for google.colab Python module.\n",
              " */\n",
              "(function(scope) {\n",
              "function span(text, styleAttributes = {}) {\n",
              "  const element = document.createElement('span');\n",
              "  element.textContent = text;\n",
              "  for (const key of Object.keys(styleAttributes)) {\n",
              "    element.style[key] = styleAttributes[key];\n",
              "  }\n",
              "  return element;\n",
              "}\n",
              "\n",
              "// Max number of bytes which will be uploaded at a time.\n",
              "const MAX_PAYLOAD_SIZE = 100 * 1024;\n",
              "\n",
              "function _uploadFiles(inputId, outputId) {\n",
              "  const steps = uploadFilesStep(inputId, outputId);\n",
              "  const outputElement = document.getElementById(outputId);\n",
              "  // Cache steps on the outputElement to make it available for the next call\n",
              "  // to uploadFilesContinue from Python.\n",
              "  outputElement.steps = steps;\n",
              "\n",
              "  return _uploadFilesContinue(outputId);\n",
              "}\n",
              "\n",
              "// This is roughly an async generator (not supported in the browser yet),\n",
              "// where there are multiple asynchronous steps and the Python side is going\n",
              "// to poll for completion of each step.\n",
              "// This uses a Promise to block the python side on completion of each step,\n",
              "// then passes the result of the previous step as the input to the next step.\n",
              "function _uploadFilesContinue(outputId) {\n",
              "  const outputElement = document.getElementById(outputId);\n",
              "  const steps = outputElement.steps;\n",
              "\n",
              "  const next = steps.next(outputElement.lastPromiseValue);\n",
              "  return Promise.resolve(next.value.promise).then((value) => {\n",
              "    // Cache the last promise value to make it available to the next\n",
              "    // step of the generator.\n",
              "    outputElement.lastPromiseValue = value;\n",
              "    return next.value.response;\n",
              "  });\n",
              "}\n",
              "\n",
              "/**\n",
              " * Generator function which is called between each async step of the upload\n",
              " * process.\n",
              " * @param {string} inputId Element ID of the input file picker element.\n",
              " * @param {string} outputId Element ID of the output display.\n",
              " * @return {!Iterable<!Object>} Iterable of next steps.\n",
              " */\n",
              "function* uploadFilesStep(inputId, outputId) {\n",
              "  const inputElement = document.getElementById(inputId);\n",
              "  inputElement.disabled = false;\n",
              "\n",
              "  const outputElement = document.getElementById(outputId);\n",
              "  outputElement.innerHTML = '';\n",
              "\n",
              "  const pickedPromise = new Promise((resolve) => {\n",
              "    inputElement.addEventListener('change', (e) => {\n",
              "      resolve(e.target.files);\n",
              "    });\n",
              "  });\n",
              "\n",
              "  const cancel = document.createElement('button');\n",
              "  inputElement.parentElement.appendChild(cancel);\n",
              "  cancel.textContent = 'Cancel upload';\n",
              "  const cancelPromise = new Promise((resolve) => {\n",
              "    cancel.onclick = () => {\n",
              "      resolve(null);\n",
              "    };\n",
              "  });\n",
              "\n",
              "  // Wait for the user to pick the files.\n",
              "  const files = yield {\n",
              "    promise: Promise.race([pickedPromise, cancelPromise]),\n",
              "    response: {\n",
              "      action: 'starting',\n",
              "    }\n",
              "  };\n",
              "\n",
              "  cancel.remove();\n",
              "\n",
              "  // Disable the input element since further picks are not allowed.\n",
              "  inputElement.disabled = true;\n",
              "\n",
              "  if (!files) {\n",
              "    return {\n",
              "      response: {\n",
              "        action: 'complete',\n",
              "      }\n",
              "    };\n",
              "  }\n",
              "\n",
              "  for (const file of files) {\n",
              "    const li = document.createElement('li');\n",
              "    li.append(span(file.name, {fontWeight: 'bold'}));\n",
              "    li.append(span(\n",
              "        `(${file.type || 'n/a'}) - ${file.size} bytes, ` +\n",
              "        `last modified: ${\n",
              "            file.lastModifiedDate ? file.lastModifiedDate.toLocaleDateString() :\n",
              "                                    'n/a'} - `));\n",
              "    const percent = span('0% done');\n",
              "    li.appendChild(percent);\n",
              "\n",
              "    outputElement.appendChild(li);\n",
              "\n",
              "    const fileDataPromise = new Promise((resolve) => {\n",
              "      const reader = new FileReader();\n",
              "      reader.onload = (e) => {\n",
              "        resolve(e.target.result);\n",
              "      };\n",
              "      reader.readAsArrayBuffer(file);\n",
              "    });\n",
              "    // Wait for the data to be ready.\n",
              "    let fileData = yield {\n",
              "      promise: fileDataPromise,\n",
              "      response: {\n",
              "        action: 'continue',\n",
              "      }\n",
              "    };\n",
              "\n",
              "    // Use a chunked sending to avoid message size limits. See b/62115660.\n",
              "    let position = 0;\n",
              "    do {\n",
              "      const length = Math.min(fileData.byteLength - position, MAX_PAYLOAD_SIZE);\n",
              "      const chunk = new Uint8Array(fileData, position, length);\n",
              "      position += length;\n",
              "\n",
              "      const base64 = btoa(String.fromCharCode.apply(null, chunk));\n",
              "      yield {\n",
              "        response: {\n",
              "          action: 'append',\n",
              "          file: file.name,\n",
              "          data: base64,\n",
              "        },\n",
              "      };\n",
              "\n",
              "      let percentDone = fileData.byteLength === 0 ?\n",
              "          100 :\n",
              "          Math.round((position / fileData.byteLength) * 100);\n",
              "      percent.textContent = `${percentDone}% done`;\n",
              "\n",
              "    } while (position < fileData.byteLength);\n",
              "  }\n",
              "\n",
              "  // All done.\n",
              "  yield {\n",
              "    response: {\n",
              "      action: 'complete',\n",
              "    }\n",
              "  };\n",
              "}\n",
              "\n",
              "scope.google = scope.google || {};\n",
              "scope.google.colab = scope.google.colab || {};\n",
              "scope.google.colab._files = {\n",
              "  _uploadFiles,\n",
              "  _uploadFilesContinue,\n",
              "};\n",
              "})(self);\n",
              "</script> "
            ]
          },
          "metadata": {}
        },
        {
          "output_type": "stream",
          "name": "stdout",
          "text": [
            "Saving my-project-1-scores-review-5d637556da10.json to my-project-1-scores-review-5d637556da10.json\n",
            "Uploaded file: my-project-1-scores-review-5d637556da10.json\n"
          ]
        }
      ]
    },
    {
      "cell_type": "markdown",
      "source": [
        "**Segment 2: Set Up Authentication**"
      ],
      "metadata": {
        "id": "6lW0Q_ix18B_"
      }
    },
    {
      "cell_type": "code",
      "source": [
        "from google.oauth2 import service_account\n",
        "from google.cloud import language_v1\n",
        "\n",
        "# Path to the uploaded service account key file\n",
        "key_path = 'my-project-1-scores-review-5d637556da10.json'  # Update this if the filename differs\n",
        "\n",
        "# Create credentials object\n",
        "credentials = service_account.Credentials.from_service_account_file(key_path)\n",
        "\n",
        "# Create a client for the Natural Language API\n",
        "client = language_v1.LanguageServiceClient(credentials=credentials)\n"
      ],
      "metadata": {
        "id": "sIIHwiXRztT4"
      },
      "execution_count": null,
      "outputs": []
    },
    {
      "cell_type": "markdown",
      "source": [
        "**Segment 3: Define Sentiment Analysis Function**"
      ],
      "metadata": {
        "id": "43Bbf5JT1nRm"
      }
    },
    {
      "cell_type": "code",
      "source": [
        "def analyze_sentiment(text):\n",
        "    # Create a document\n",
        "    document = language_v1.Document(\n",
        "        content=text,\n",
        "        type_=language_v1.Document.Type.PLAIN_TEXT,\n",
        "    )\n",
        "\n",
        "    # Get sentiment analysis response\n",
        "    response = client.analyze_sentiment(request={'document': document})\n",
        "\n",
        "    # Extract sentiment score\n",
        "    sentiment_score = response.document_sentiment.score\n",
        "    return sentiment_score\n"
      ],
      "metadata": {
        "id": "be1GnPd0z5VX"
      },
      "execution_count": null,
      "outputs": []
    },
    {
      "cell_type": "markdown",
      "source": [
        "**Segment 4: Download and Prepare Data**"
      ],
      "metadata": {
        "id": "9dMksqQI1KUz"
      }
    },
    {
      "cell_type": "code",
      "source": [
        "import nltk\n",
        "nltk.download('movie_reviews')\n",
        "from nltk.corpus import movie_reviews\n",
        "\n",
        "# Extract positive and negative reviews\n",
        "reviews_pos = [movie_reviews.raw(fileid) for fileid in movie_reviews.fileids('pos')]\n",
        "reviews_neg = [movie_reviews.raw(fileid) for fileid in movie_reviews.fileids('neg')]\n",
        "\n",
        "# Define subsets for testing\n",
        "subset_size = 10  # Adjust this number based on your testing needs\n",
        "subset_pos = reviews_pos[:subset_size]\n",
        "subset_neg = reviews_neg[:subset_size]\n"
      ],
      "metadata": {
        "colab": {
          "base_uri": "https://localhost:8080/"
        },
        "id": "4vchkyzt0m2n",
        "outputId": "99b59269-3750-419d-c5d0-d67615999090"
      },
      "execution_count": null,
      "outputs": [
        {
          "output_type": "stream",
          "name": "stderr",
          "text": [
            "[nltk_data] Downloading package movie_reviews to /root/nltk_data...\n",
            "[nltk_data]   Package movie_reviews is already up-to-date!\n"
          ]
        }
      ]
    },
    {
      "cell_type": "markdown",
      "source": [
        "**Segment 5: Analyze Sentiments**"
      ],
      "metadata": {
        "id": "NQrxgzeS09-7"
      }
    },
    {
      "cell_type": "code",
      "source": [
        "# Analyze sentiment for positive reviews\n",
        "print(\"Positive Reviews Sentiment Scores:\")\n",
        "for review in subset_pos:\n",
        "    try:\n",
        "        score = analyze_sentiment(review)\n",
        "        print(f\"Review sentiment score: {score}\")\n",
        "    except Exception as e:\n",
        "        print(f\"An error occurred: {e}\")\n",
        "\n",
        "# Analyze sentiment for negative reviews\n",
        "print(\"Negative Reviews Sentiment Scores:\")\n",
        "for review in subset_neg:\n",
        "    try:\n",
        "        score = analyze_sentiment(review)\n",
        "        print(f\"Review sentiment score: {score}\")\n",
        "    except Exception as e:\n",
        "        print(f\"An error occurred: {e}\")\n"
      ],
      "metadata": {
        "colab": {
          "base_uri": "https://localhost:8080/"
        },
        "id": "sx7VGdO40rtU",
        "outputId": "d54a2823-88ce-4436-8e2f-39aec32dd616"
      },
      "execution_count": null,
      "outputs": [
        {
          "output_type": "stream",
          "name": "stdout",
          "text": [
            "Positive Reviews Sentiment Scores:\n",
            "Review sentiment score: -0.10000000149011612\n",
            "Review sentiment score: 0.0\n",
            "Review sentiment score: 0.0\n",
            "Review sentiment score: 0.0\n",
            "Review sentiment score: 0.0\n",
            "Review sentiment score: 0.0\n",
            "Review sentiment score: 0.0\n",
            "Review sentiment score: 0.10000000149011612\n",
            "Review sentiment score: -0.10000000149011612\n",
            "Review sentiment score: 0.0\n",
            "Negative Reviews Sentiment Scores:\n",
            "Review sentiment score: -0.30000001192092896\n",
            "Review sentiment score: -0.30000001192092896\n",
            "Review sentiment score: -0.20000000298023224\n",
            "Review sentiment score: -0.10000000149011612\n",
            "Review sentiment score: -0.30000001192092896\n",
            "Review sentiment score: -0.20000000298023224\n",
            "Review sentiment score: -0.30000001192092896\n",
            "Review sentiment score: -0.30000001192092896\n",
            "Review sentiment score: -0.20000000298023224\n",
            "Review sentiment score: -0.30000001192092896\n"
          ]
        }
      ]
    },
    {
      "cell_type": "code",
      "source": [],
      "metadata": {
        "id": "W7EZRAAx0xe6"
      },
      "execution_count": null,
      "outputs": []
    }
  ]
}